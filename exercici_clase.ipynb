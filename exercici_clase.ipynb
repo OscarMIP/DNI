{
 "cells": [
  {
   "cell_type": "code",
   "execution_count": null,
   "metadata": {},
   "outputs": [],
   "source": [
    "class persona:\n",
    "    def __init__(self, nom, dni,):\n",
    "        self.nom = nom\n",
    "        self.__dni = dni\n",
    "        \n",
    "        \n",
    "    def validar_dni(dni):\n",
    "        lletres = ['T' 'R' 'W' 'A' 'G' 'M' 'Y' 'F' 'P' 'D' 'X' 'B' 'N' 'J' 'Z' 'S' 'Q' 'V' 'H' 'L' 'C' 'K' 'E']\n",
    "        dni_nums = dni[:-1]\n",
    "        dni_lletra = dni[-1]\n",
    "        resta = dni_nums%23\n",
    "        lletra = lletres[resta]\n",
    "        \n",
    "        if dni_lletra == lletra:\n",
    "            return True\n",
    "        \n",
    "        return False\n",
    "    \n",
    "            \n",
    "    def get_nom(self):\n",
    "        return self.nom\n",
    "    \n",
    "    def get_dni(self):\n",
    "        return self.__dni\n",
    "    \n",
    "    def set_dni(self, dni):\n",
    "        if self.validar_dni(dni):\n",
    "            self.__dni = dni\n",
    "        else:\n",
    "            self.__dni = None\n",
    "            \n",
    "     \n",
    "def dades():\n",
    "    nom = input(\"Introdueix el teu nom\")\n",
    "    dni = input(\"Introdueix el teu DNI\")\n",
    "    persona = persona(nom,dni)\n",
    "    \n",
    "    if persona.get_dni():\n",
    "        print (persona)\n",
    "    else:\n",
    "        print (\"Les dades son incorrectes\")\n",
    "    \n",
    "    return persona\n",
    "\n",
    "p = dades()\n",
    "    \n",
    "        "
   ]
  }
 ],
 "metadata": {
  "kernelspec": {
   "display_name": "Python 3",
   "language": "python",
   "name": "python3"
  },
  "language_info": {
   "codemirror_mode": {
    "name": "ipython",
    "version": 3
   },
   "file_extension": ".py",
   "mimetype": "text/x-python",
   "name": "python",
   "nbconvert_exporter": "python",
   "pygments_lexer": "ipython3",
   "version": "3.11.5"
  }
 },
 "nbformat": 4,
 "nbformat_minor": 2
}
